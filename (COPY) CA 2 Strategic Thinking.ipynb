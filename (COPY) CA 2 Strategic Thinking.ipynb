{
 "cells": [
  {
   "cell_type": "code",
   "execution_count": 2,
   "id": "4fa9062c",
   "metadata": {},
   "outputs": [],
   "source": [
    "import pandas as pd\n",
    "import seaborn as sns\n",
    "import matplotlib.pyplot as plt\n",
    "from sklearn.preprocessing import LabelEncoder"
   ]
  },
  {
   "cell_type": "code",
   "execution_count": 3,
   "id": "4d5324fe",
   "metadata": {},
   "outputs": [
    {
     "name": "stdout",
     "output_type": "stream",
     "text": [
      "Shape of london_weekdays: (4614, 20)\n",
      "Shape of london_weekends: (5379, 20)\n"
     ]
    }
   ],
   "source": [
    "london_weekdays = pd.read_csv('london_weekdays.csv')\n",
    "london_weekends = pd.read_csv('london_weekends.csv')\n",
    "\n",
    "print(f\"Shape of london_weekdays: {london_weekdays.shape}\")\n",
    "print(f\"Shape of london_weekends: {london_weekends.shape}\")"
   ]
  },
  {
   "cell_type": "code",
   "execution_count": 4,
   "id": "4c9a492b",
   "metadata": {},
   "outputs": [],
   "source": [
    "london_weekdays['week Type'] = 'weekdays'\n",
    "london_weekends['week Type'] = 'weekend'"
   ]
  },
  {
   "cell_type": "code",
   "execution_count": 5,
   "id": "89db10fc",
   "metadata": {},
   "outputs": [],
   "source": [
    "# Concatenate the datasets\n",
    "londonDf = pd.concat([london_weekdays, london_weekends]).copy()"
   ]
  },
  {
   "cell_type": "code",
   "execution_count": 6,
   "id": "26d9d26e",
   "metadata": {},
   "outputs": [],
   "source": [
    "# Drop the initial index column\n",
    "londonDf.drop(columns=['Unnamed: 0'], inplace=True)"
   ]
  },
  {
   "cell_type": "code",
   "execution_count": 7,
   "id": "7e86d4e6",
   "metadata": {},
   "outputs": [
    {
     "name": "stdout",
     "output_type": "stream",
     "text": [
      "realSum                       0\n",
      "room_type                     0\n",
      "room_shared                   0\n",
      "room_private                  0\n",
      "person_capacity               0\n",
      "host_is_superhost             0\n",
      "multi                         0\n",
      "biz                           0\n",
      "cleanliness_rating            0\n",
      "guest_satisfaction_overall    0\n",
      "bedrooms                      0\n",
      "dist                          0\n",
      "metro_dist                    0\n",
      "attr_index                    0\n",
      "attr_index_norm               0\n",
      "rest_index                    0\n",
      "rest_index_norm               0\n",
      "lng                           0\n",
      "lat                           0\n",
      "week Type                     0\n",
      "dtype: int64\n"
     ]
    }
   ],
   "source": [
    "# Check for missing values\n",
    "print(londonDf.isnull().sum())"
   ]
  },
  {
   "cell_type": "code",
   "execution_count": 8,
   "id": "6b4a979f",
   "metadata": {},
   "outputs": [
    {
     "data": {
      "text/html": [
       "<div>\n",
       "<style scoped>\n",
       "    .dataframe tbody tr th:only-of-type {\n",
       "        vertical-align: middle;\n",
       "    }\n",
       "\n",
       "    .dataframe tbody tr th {\n",
       "        vertical-align: top;\n",
       "    }\n",
       "\n",
       "    .dataframe thead th {\n",
       "        text-align: right;\n",
       "    }\n",
       "</style>\n",
       "<table border=\"1\" class=\"dataframe\">\n",
       "  <thead>\n",
       "    <tr style=\"text-align: right;\">\n",
       "      <th></th>\n",
       "      <th>realSum</th>\n",
       "      <th>room_type</th>\n",
       "      <th>room_shared</th>\n",
       "      <th>room_private</th>\n",
       "      <th>person_capacity</th>\n",
       "      <th>host_is_superhost</th>\n",
       "      <th>multi</th>\n",
       "      <th>biz</th>\n",
       "      <th>cleanliness_rating</th>\n",
       "      <th>guest_satisfaction_overall</th>\n",
       "      <th>bedrooms</th>\n",
       "      <th>dist</th>\n",
       "      <th>metro_dist</th>\n",
       "      <th>attr_index</th>\n",
       "      <th>attr_index_norm</th>\n",
       "      <th>rest_index</th>\n",
       "      <th>rest_index_norm</th>\n",
       "      <th>lng</th>\n",
       "      <th>lat</th>\n",
       "      <th>week Type</th>\n",
       "    </tr>\n",
       "  </thead>\n",
       "  <tbody>\n",
       "    <tr>\n",
       "      <th>0</th>\n",
       "      <td>570.098074</td>\n",
       "      <td>Entire home/apt</td>\n",
       "      <td>False</td>\n",
       "      <td>False</td>\n",
       "      <td>2.0</td>\n",
       "      <td>False</td>\n",
       "      <td>0</td>\n",
       "      <td>0</td>\n",
       "      <td>10.0</td>\n",
       "      <td>98.0</td>\n",
       "      <td>1</td>\n",
       "      <td>5.301018</td>\n",
       "      <td>1.588990</td>\n",
       "      <td>209.632578</td>\n",
       "      <td>14.571793</td>\n",
       "      <td>467.597522</td>\n",
       "      <td>8.372724</td>\n",
       "      <td>-0.16032</td>\n",
       "      <td>51.46531</td>\n",
       "      <td>weekdays</td>\n",
       "    </tr>\n",
       "    <tr>\n",
       "      <th>1</th>\n",
       "      <td>297.984430</td>\n",
       "      <td>Private room</td>\n",
       "      <td>False</td>\n",
       "      <td>True</td>\n",
       "      <td>2.0</td>\n",
       "      <td>True</td>\n",
       "      <td>1</td>\n",
       "      <td>0</td>\n",
       "      <td>10.0</td>\n",
       "      <td>99.0</td>\n",
       "      <td>1</td>\n",
       "      <td>2.198946</td>\n",
       "      <td>0.379262</td>\n",
       "      <td>553.891744</td>\n",
       "      <td>38.501630</td>\n",
       "      <td>961.472137</td>\n",
       "      <td>17.215961</td>\n",
       "      <td>-0.09683</td>\n",
       "      <td>51.50343</td>\n",
       "      <td>weekdays</td>\n",
       "    </tr>\n",
       "    <tr>\n",
       "      <th>2</th>\n",
       "      <td>336.790611</td>\n",
       "      <td>Private room</td>\n",
       "      <td>False</td>\n",
       "      <td>True</td>\n",
       "      <td>2.0</td>\n",
       "      <td>False</td>\n",
       "      <td>1</td>\n",
       "      <td>0</td>\n",
       "      <td>10.0</td>\n",
       "      <td>96.0</td>\n",
       "      <td>1</td>\n",
       "      <td>2.322958</td>\n",
       "      <td>0.453178</td>\n",
       "      <td>428.287849</td>\n",
       "      <td>29.770764</td>\n",
       "      <td>959.042839</td>\n",
       "      <td>17.172462</td>\n",
       "      <td>-0.10554</td>\n",
       "      <td>51.52407</td>\n",
       "      <td>weekdays</td>\n",
       "    </tr>\n",
       "    <tr>\n",
       "      <th>3</th>\n",
       "      <td>226.722171</td>\n",
       "      <td>Private room</td>\n",
       "      <td>False</td>\n",
       "      <td>True</td>\n",
       "      <td>2.0</td>\n",
       "      <td>True</td>\n",
       "      <td>1</td>\n",
       "      <td>0</td>\n",
       "      <td>10.0</td>\n",
       "      <td>99.0</td>\n",
       "      <td>1</td>\n",
       "      <td>5.707825</td>\n",
       "      <td>1.723977</td>\n",
       "      <td>195.694744</td>\n",
       "      <td>13.602959</td>\n",
       "      <td>452.232472</td>\n",
       "      <td>8.097600</td>\n",
       "      <td>-0.16575</td>\n",
       "      <td>51.46292</td>\n",
       "      <td>weekdays</td>\n",
       "    </tr>\n",
       "    <tr>\n",
       "      <th>4</th>\n",
       "      <td>256.355982</td>\n",
       "      <td>Private room</td>\n",
       "      <td>False</td>\n",
       "      <td>True</td>\n",
       "      <td>3.0</td>\n",
       "      <td>False</td>\n",
       "      <td>0</td>\n",
       "      <td>0</td>\n",
       "      <td>9.0</td>\n",
       "      <td>98.0</td>\n",
       "      <td>1</td>\n",
       "      <td>3.257945</td>\n",
       "      <td>0.825417</td>\n",
       "      <td>329.477068</td>\n",
       "      <td>22.902317</td>\n",
       "      <td>735.327280</td>\n",
       "      <td>13.166649</td>\n",
       "      <td>-0.12055</td>\n",
       "      <td>51.53728</td>\n",
       "      <td>weekdays</td>\n",
       "    </tr>\n",
       "    <tr>\n",
       "      <th>...</th>\n",
       "      <td>...</td>\n",
       "      <td>...</td>\n",
       "      <td>...</td>\n",
       "      <td>...</td>\n",
       "      <td>...</td>\n",
       "      <td>...</td>\n",
       "      <td>...</td>\n",
       "      <td>...</td>\n",
       "      <td>...</td>\n",
       "      <td>...</td>\n",
       "      <td>...</td>\n",
       "      <td>...</td>\n",
       "      <td>...</td>\n",
       "      <td>...</td>\n",
       "      <td>...</td>\n",
       "      <td>...</td>\n",
       "      <td>...</td>\n",
       "      <td>...</td>\n",
       "      <td>...</td>\n",
       "      <td>...</td>\n",
       "    </tr>\n",
       "    <tr>\n",
       "      <th>5374</th>\n",
       "      <td>1035.066676</td>\n",
       "      <td>Private room</td>\n",
       "      <td>False</td>\n",
       "      <td>True</td>\n",
       "      <td>2.0</td>\n",
       "      <td>False</td>\n",
       "      <td>0</td>\n",
       "      <td>1</td>\n",
       "      <td>10.0</td>\n",
       "      <td>100.0</td>\n",
       "      <td>0</td>\n",
       "      <td>5.155373</td>\n",
       "      <td>0.883829</td>\n",
       "      <td>271.191201</td>\n",
       "      <td>18.851558</td>\n",
       "      <td>528.042180</td>\n",
       "      <td>9.451035</td>\n",
       "      <td>-0.05357</td>\n",
       "      <td>51.51255</td>\n",
       "      <td>weekend</td>\n",
       "    </tr>\n",
       "    <tr>\n",
       "      <th>5375</th>\n",
       "      <td>181.095510</td>\n",
       "      <td>Private room</td>\n",
       "      <td>False</td>\n",
       "      <td>True</td>\n",
       "      <td>2.0</td>\n",
       "      <td>False</td>\n",
       "      <td>1</td>\n",
       "      <td>0</td>\n",
       "      <td>10.0</td>\n",
       "      <td>100.0</td>\n",
       "      <td>1</td>\n",
       "      <td>5.072177</td>\n",
       "      <td>0.344055</td>\n",
       "      <td>268.165870</td>\n",
       "      <td>18.641255</td>\n",
       "      <td>554.906232</td>\n",
       "      <td>9.931855</td>\n",
       "      <td>-0.05620</td>\n",
       "      <td>51.51823</td>\n",
       "      <td>weekend</td>\n",
       "    </tr>\n",
       "    <tr>\n",
       "      <th>5376</th>\n",
       "      <td>420.517886</td>\n",
       "      <td>Entire home/apt</td>\n",
       "      <td>False</td>\n",
       "      <td>False</td>\n",
       "      <td>2.0</td>\n",
       "      <td>False</td>\n",
       "      <td>0</td>\n",
       "      <td>0</td>\n",
       "      <td>10.0</td>\n",
       "      <td>98.0</td>\n",
       "      <td>1</td>\n",
       "      <td>6.709982</td>\n",
       "      <td>0.926188</td>\n",
       "      <td>181.892001</td>\n",
       "      <td>12.644022</td>\n",
       "      <td>395.397885</td>\n",
       "      <td>7.076933</td>\n",
       "      <td>-0.22172</td>\n",
       "      <td>51.52180</td>\n",
       "      <td>weekend</td>\n",
       "    </tr>\n",
       "    <tr>\n",
       "      <th>5377</th>\n",
       "      <td>217.314612</td>\n",
       "      <td>Private room</td>\n",
       "      <td>False</td>\n",
       "      <td>True</td>\n",
       "      <td>2.0</td>\n",
       "      <td>False</td>\n",
       "      <td>0</td>\n",
       "      <td>0</td>\n",
       "      <td>10.0</td>\n",
       "      <td>94.0</td>\n",
       "      <td>1</td>\n",
       "      <td>6.736940</td>\n",
       "      <td>0.353634</td>\n",
       "      <td>184.278328</td>\n",
       "      <td>12.809905</td>\n",
       "      <td>471.029678</td>\n",
       "      <td>8.430610</td>\n",
       "      <td>-0.22286</td>\n",
       "      <td>51.49715</td>\n",
       "      <td>weekend</td>\n",
       "    </tr>\n",
       "    <tr>\n",
       "      <th>5378</th>\n",
       "      <td>489.193067</td>\n",
       "      <td>Entire home/apt</td>\n",
       "      <td>False</td>\n",
       "      <td>False</td>\n",
       "      <td>2.0</td>\n",
       "      <td>False</td>\n",
       "      <td>0</td>\n",
       "      <td>0</td>\n",
       "      <td>9.0</td>\n",
       "      <td>92.0</td>\n",
       "      <td>1</td>\n",
       "      <td>4.174953</td>\n",
       "      <td>0.610443</td>\n",
       "      <td>434.954210</td>\n",
       "      <td>30.235363</td>\n",
       "      <td>697.673227</td>\n",
       "      <td>12.487135</td>\n",
       "      <td>-0.06739</td>\n",
       "      <td>51.50889</td>\n",
       "      <td>weekend</td>\n",
       "    </tr>\n",
       "  </tbody>\n",
       "</table>\n",
       "<p>9993 rows × 20 columns</p>\n",
       "</div>"
      ],
      "text/plain": [
       "          realSum        room_type  room_shared  room_private  \\\n",
       "0      570.098074  Entire home/apt        False         False   \n",
       "1      297.984430     Private room        False          True   \n",
       "2      336.790611     Private room        False          True   \n",
       "3      226.722171     Private room        False          True   \n",
       "4      256.355982     Private room        False          True   \n",
       "...           ...              ...          ...           ...   \n",
       "5374  1035.066676     Private room        False          True   \n",
       "5375   181.095510     Private room        False          True   \n",
       "5376   420.517886  Entire home/apt        False         False   \n",
       "5377   217.314612     Private room        False          True   \n",
       "5378   489.193067  Entire home/apt        False         False   \n",
       "\n",
       "      person_capacity  host_is_superhost  multi  biz  cleanliness_rating  \\\n",
       "0                 2.0              False      0    0                10.0   \n",
       "1                 2.0               True      1    0                10.0   \n",
       "2                 2.0              False      1    0                10.0   \n",
       "3                 2.0               True      1    0                10.0   \n",
       "4                 3.0              False      0    0                 9.0   \n",
       "...               ...                ...    ...  ...                 ...   \n",
       "5374              2.0              False      0    1                10.0   \n",
       "5375              2.0              False      1    0                10.0   \n",
       "5376              2.0              False      0    0                10.0   \n",
       "5377              2.0              False      0    0                10.0   \n",
       "5378              2.0              False      0    0                 9.0   \n",
       "\n",
       "      guest_satisfaction_overall  bedrooms      dist  metro_dist  attr_index  \\\n",
       "0                           98.0         1  5.301018    1.588990  209.632578   \n",
       "1                           99.0         1  2.198946    0.379262  553.891744   \n",
       "2                           96.0         1  2.322958    0.453178  428.287849   \n",
       "3                           99.0         1  5.707825    1.723977  195.694744   \n",
       "4                           98.0         1  3.257945    0.825417  329.477068   \n",
       "...                          ...       ...       ...         ...         ...   \n",
       "5374                       100.0         0  5.155373    0.883829  271.191201   \n",
       "5375                       100.0         1  5.072177    0.344055  268.165870   \n",
       "5376                        98.0         1  6.709982    0.926188  181.892001   \n",
       "5377                        94.0         1  6.736940    0.353634  184.278328   \n",
       "5378                        92.0         1  4.174953    0.610443  434.954210   \n",
       "\n",
       "      attr_index_norm  rest_index  rest_index_norm      lng       lat  \\\n",
       "0           14.571793  467.597522         8.372724 -0.16032  51.46531   \n",
       "1           38.501630  961.472137        17.215961 -0.09683  51.50343   \n",
       "2           29.770764  959.042839        17.172462 -0.10554  51.52407   \n",
       "3           13.602959  452.232472         8.097600 -0.16575  51.46292   \n",
       "4           22.902317  735.327280        13.166649 -0.12055  51.53728   \n",
       "...               ...         ...              ...      ...       ...   \n",
       "5374        18.851558  528.042180         9.451035 -0.05357  51.51255   \n",
       "5375        18.641255  554.906232         9.931855 -0.05620  51.51823   \n",
       "5376        12.644022  395.397885         7.076933 -0.22172  51.52180   \n",
       "5377        12.809905  471.029678         8.430610 -0.22286  51.49715   \n",
       "5378        30.235363  697.673227        12.487135 -0.06739  51.50889   \n",
       "\n",
       "     week Type  \n",
       "0     weekdays  \n",
       "1     weekdays  \n",
       "2     weekdays  \n",
       "3     weekdays  \n",
       "4     weekdays  \n",
       "...        ...  \n",
       "5374   weekend  \n",
       "5375   weekend  \n",
       "5376   weekend  \n",
       "5377   weekend  \n",
       "5378   weekend  \n",
       "\n",
       "[9993 rows x 20 columns]"
      ]
     },
     "execution_count": 8,
     "metadata": {},
     "output_type": "execute_result"
    }
   ],
   "source": [
    "londonDf"
   ]
  },
  {
   "cell_type": "code",
   "execution_count": 9,
   "id": "e978c8c4",
   "metadata": {},
   "outputs": [],
   "source": [
    "londonDf = londonDf.drop(['room_shared', 'room_private', 'multi', \n",
    "             'biz', 'attr_index', 'attr_index_norm', 'rest_index', 'rest_index_norm', \n",
    "              'lng', 'lat'], axis=1)"
   ]
  },
  {
   "cell_type": "code",
   "execution_count": 10,
   "id": "a220fe08",
   "metadata": {},
   "outputs": [
    {
     "data": {
      "text/html": [
       "<div>\n",
       "<style scoped>\n",
       "    .dataframe tbody tr th:only-of-type {\n",
       "        vertical-align: middle;\n",
       "    }\n",
       "\n",
       "    .dataframe tbody tr th {\n",
       "        vertical-align: top;\n",
       "    }\n",
       "\n",
       "    .dataframe thead th {\n",
       "        text-align: right;\n",
       "    }\n",
       "</style>\n",
       "<table border=\"1\" class=\"dataframe\">\n",
       "  <thead>\n",
       "    <tr style=\"text-align: right;\">\n",
       "      <th></th>\n",
       "      <th>realSum</th>\n",
       "      <th>room_type</th>\n",
       "      <th>person_capacity</th>\n",
       "      <th>host_is_superhost</th>\n",
       "      <th>cleanliness_rating</th>\n",
       "      <th>guest_satisfaction_overall</th>\n",
       "      <th>bedrooms</th>\n",
       "      <th>dist</th>\n",
       "      <th>metro_dist</th>\n",
       "      <th>week Type</th>\n",
       "    </tr>\n",
       "  </thead>\n",
       "  <tbody>\n",
       "    <tr>\n",
       "      <th>0</th>\n",
       "      <td>570.098074</td>\n",
       "      <td>Entire home/apt</td>\n",
       "      <td>2.0</td>\n",
       "      <td>False</td>\n",
       "      <td>10.0</td>\n",
       "      <td>98.0</td>\n",
       "      <td>1</td>\n",
       "      <td>5.301018</td>\n",
       "      <td>1.588990</td>\n",
       "      <td>weekdays</td>\n",
       "    </tr>\n",
       "    <tr>\n",
       "      <th>1</th>\n",
       "      <td>297.984430</td>\n",
       "      <td>Private room</td>\n",
       "      <td>2.0</td>\n",
       "      <td>True</td>\n",
       "      <td>10.0</td>\n",
       "      <td>99.0</td>\n",
       "      <td>1</td>\n",
       "      <td>2.198946</td>\n",
       "      <td>0.379262</td>\n",
       "      <td>weekdays</td>\n",
       "    </tr>\n",
       "    <tr>\n",
       "      <th>2</th>\n",
       "      <td>336.790611</td>\n",
       "      <td>Private room</td>\n",
       "      <td>2.0</td>\n",
       "      <td>False</td>\n",
       "      <td>10.0</td>\n",
       "      <td>96.0</td>\n",
       "      <td>1</td>\n",
       "      <td>2.322958</td>\n",
       "      <td>0.453178</td>\n",
       "      <td>weekdays</td>\n",
       "    </tr>\n",
       "    <tr>\n",
       "      <th>3</th>\n",
       "      <td>226.722171</td>\n",
       "      <td>Private room</td>\n",
       "      <td>2.0</td>\n",
       "      <td>True</td>\n",
       "      <td>10.0</td>\n",
       "      <td>99.0</td>\n",
       "      <td>1</td>\n",
       "      <td>5.707825</td>\n",
       "      <td>1.723977</td>\n",
       "      <td>weekdays</td>\n",
       "    </tr>\n",
       "    <tr>\n",
       "      <th>4</th>\n",
       "      <td>256.355982</td>\n",
       "      <td>Private room</td>\n",
       "      <td>3.0</td>\n",
       "      <td>False</td>\n",
       "      <td>9.0</td>\n",
       "      <td>98.0</td>\n",
       "      <td>1</td>\n",
       "      <td>3.257945</td>\n",
       "      <td>0.825417</td>\n",
       "      <td>weekdays</td>\n",
       "    </tr>\n",
       "  </tbody>\n",
       "</table>\n",
       "</div>"
      ],
      "text/plain": [
       "      realSum        room_type  person_capacity  host_is_superhost  \\\n",
       "0  570.098074  Entire home/apt              2.0              False   \n",
       "1  297.984430     Private room              2.0               True   \n",
       "2  336.790611     Private room              2.0              False   \n",
       "3  226.722171     Private room              2.0               True   \n",
       "4  256.355982     Private room              3.0              False   \n",
       "\n",
       "   cleanliness_rating  guest_satisfaction_overall  bedrooms      dist  \\\n",
       "0                10.0                        98.0         1  5.301018   \n",
       "1                10.0                        99.0         1  2.198946   \n",
       "2                10.0                        96.0         1  2.322958   \n",
       "3                10.0                        99.0         1  5.707825   \n",
       "4                 9.0                        98.0         1  3.257945   \n",
       "\n",
       "   metro_dist week Type  \n",
       "0    1.588990  weekdays  \n",
       "1    0.379262  weekdays  \n",
       "2    0.453178  weekdays  \n",
       "3    1.723977  weekdays  \n",
       "4    0.825417  weekdays  "
      ]
     },
     "execution_count": 10,
     "metadata": {},
     "output_type": "execute_result"
    }
   ],
   "source": [
    "londonDf.head()"
   ]
  },
  {
   "cell_type": "code",
   "execution_count": 12,
   "id": "25a4b076",
   "metadata": {},
   "outputs": [],
   "source": [
    "londonDf = pd.get_dummies(londonDf, columns=['room_type', 'host_is_superhost', 'week Type'])"
   ]
  },
  {
   "cell_type": "code",
   "execution_count": 13,
   "id": "e2c65318",
   "metadata": {},
   "outputs": [
    {
     "data": {
      "text/html": [
       "<div>\n",
       "<style scoped>\n",
       "    .dataframe tbody tr th:only-of-type {\n",
       "        vertical-align: middle;\n",
       "    }\n",
       "\n",
       "    .dataframe tbody tr th {\n",
       "        vertical-align: top;\n",
       "    }\n",
       "\n",
       "    .dataframe thead th {\n",
       "        text-align: right;\n",
       "    }\n",
       "</style>\n",
       "<table border=\"1\" class=\"dataframe\">\n",
       "  <thead>\n",
       "    <tr style=\"text-align: right;\">\n",
       "      <th></th>\n",
       "      <th>realSum</th>\n",
       "      <th>person_capacity</th>\n",
       "      <th>cleanliness_rating</th>\n",
       "      <th>guest_satisfaction_overall</th>\n",
       "      <th>bedrooms</th>\n",
       "      <th>dist</th>\n",
       "      <th>metro_dist</th>\n",
       "      <th>room_type_Entire home/apt</th>\n",
       "      <th>room_type_Private room</th>\n",
       "      <th>room_type_Shared room</th>\n",
       "      <th>host_is_superhost_False</th>\n",
       "      <th>host_is_superhost_True</th>\n",
       "      <th>week Type_weekdays</th>\n",
       "      <th>week Type_weekend</th>\n",
       "    </tr>\n",
       "  </thead>\n",
       "  <tbody>\n",
       "    <tr>\n",
       "      <th>0</th>\n",
       "      <td>570.098074</td>\n",
       "      <td>2.0</td>\n",
       "      <td>10.0</td>\n",
       "      <td>98.0</td>\n",
       "      <td>1</td>\n",
       "      <td>5.301018</td>\n",
       "      <td>1.588990</td>\n",
       "      <td>1</td>\n",
       "      <td>0</td>\n",
       "      <td>0</td>\n",
       "      <td>1</td>\n",
       "      <td>0</td>\n",
       "      <td>1</td>\n",
       "      <td>0</td>\n",
       "    </tr>\n",
       "    <tr>\n",
       "      <th>1</th>\n",
       "      <td>297.984430</td>\n",
       "      <td>2.0</td>\n",
       "      <td>10.0</td>\n",
       "      <td>99.0</td>\n",
       "      <td>1</td>\n",
       "      <td>2.198946</td>\n",
       "      <td>0.379262</td>\n",
       "      <td>0</td>\n",
       "      <td>1</td>\n",
       "      <td>0</td>\n",
       "      <td>0</td>\n",
       "      <td>1</td>\n",
       "      <td>1</td>\n",
       "      <td>0</td>\n",
       "    </tr>\n",
       "    <tr>\n",
       "      <th>2</th>\n",
       "      <td>336.790611</td>\n",
       "      <td>2.0</td>\n",
       "      <td>10.0</td>\n",
       "      <td>96.0</td>\n",
       "      <td>1</td>\n",
       "      <td>2.322958</td>\n",
       "      <td>0.453178</td>\n",
       "      <td>0</td>\n",
       "      <td>1</td>\n",
       "      <td>0</td>\n",
       "      <td>1</td>\n",
       "      <td>0</td>\n",
       "      <td>1</td>\n",
       "      <td>0</td>\n",
       "    </tr>\n",
       "    <tr>\n",
       "      <th>3</th>\n",
       "      <td>226.722171</td>\n",
       "      <td>2.0</td>\n",
       "      <td>10.0</td>\n",
       "      <td>99.0</td>\n",
       "      <td>1</td>\n",
       "      <td>5.707825</td>\n",
       "      <td>1.723977</td>\n",
       "      <td>0</td>\n",
       "      <td>1</td>\n",
       "      <td>0</td>\n",
       "      <td>0</td>\n",
       "      <td>1</td>\n",
       "      <td>1</td>\n",
       "      <td>0</td>\n",
       "    </tr>\n",
       "    <tr>\n",
       "      <th>4</th>\n",
       "      <td>256.355982</td>\n",
       "      <td>3.0</td>\n",
       "      <td>9.0</td>\n",
       "      <td>98.0</td>\n",
       "      <td>1</td>\n",
       "      <td>3.257945</td>\n",
       "      <td>0.825417</td>\n",
       "      <td>0</td>\n",
       "      <td>1</td>\n",
       "      <td>0</td>\n",
       "      <td>1</td>\n",
       "      <td>0</td>\n",
       "      <td>1</td>\n",
       "      <td>0</td>\n",
       "    </tr>\n",
       "  </tbody>\n",
       "</table>\n",
       "</div>"
      ],
      "text/plain": [
       "      realSum  person_capacity  cleanliness_rating  \\\n",
       "0  570.098074              2.0                10.0   \n",
       "1  297.984430              2.0                10.0   \n",
       "2  336.790611              2.0                10.0   \n",
       "3  226.722171              2.0                10.0   \n",
       "4  256.355982              3.0                 9.0   \n",
       "\n",
       "   guest_satisfaction_overall  bedrooms      dist  metro_dist  \\\n",
       "0                        98.0         1  5.301018    1.588990   \n",
       "1                        99.0         1  2.198946    0.379262   \n",
       "2                        96.0         1  2.322958    0.453178   \n",
       "3                        99.0         1  5.707825    1.723977   \n",
       "4                        98.0         1  3.257945    0.825417   \n",
       "\n",
       "   room_type_Entire home/apt  room_type_Private room  room_type_Shared room  \\\n",
       "0                          1                       0                      0   \n",
       "1                          0                       1                      0   \n",
       "2                          0                       1                      0   \n",
       "3                          0                       1                      0   \n",
       "4                          0                       1                      0   \n",
       "\n",
       "   host_is_superhost_False  host_is_superhost_True  week Type_weekdays  \\\n",
       "0                        1                       0                   1   \n",
       "1                        0                       1                   1   \n",
       "2                        1                       0                   1   \n",
       "3                        0                       1                   1   \n",
       "4                        1                       0                   1   \n",
       "\n",
       "   week Type_weekend  \n",
       "0                  0  \n",
       "1                  0  \n",
       "2                  0  \n",
       "3                  0  \n",
       "4                  0  "
      ]
     },
     "execution_count": 13,
     "metadata": {},
     "output_type": "execute_result"
    }
   ],
   "source": [
    "londonDf.head()"
   ]
  },
  {
   "cell_type": "code",
   "execution_count": 14,
   "id": "ec0ce496",
   "metadata": {},
   "outputs": [],
   "source": [
    "londonDf = londonDf.rename(columns={'realSum': 'Price'})\n",
    "londonDf = londonDf.rename(columns={'person_capacity': 'Person_Capacity'})\n",
    "londonDf = londonDf.rename(columns={'cleanliness_rating': 'Cleanliness_Rating'})\n",
    "londonDf = londonDf.rename(columns={'guest_satisfaction_overall': 'Satisfaction'})\n",
    "londonDf = londonDf.rename(columns={'bedrooms': 'Bedrooms'})\n",
    "londonDf = londonDf.rename(columns={'dist': 'Dist'})\n",
    "londonDf = londonDf.rename(columns={'metro_dist': 'Metro Dist'})\n",
    "londonDf = londonDf.rename(columns={'room_type_Entire home/apt': 'Entire home/apt'})\n",
    "londonDf = londonDf.rename(columns={'room_type_Private room' : 'Private room'})\n",
    "londonDf = londonDf.rename(columns={'room_type_Shared room' : 'Shared room'})\n",
    "londonDf = londonDf.rename(columns={'host_is_superhost_False' : 'Superhost_False'})\n",
    "londonDf = londonDf.rename(columns={'host_is_superhost_True' : 'Superhost_True'})\n",
    "londonDf = londonDf.rename(columns={'week Type_weekdays' : 'Weekdays'})\n",
    "londonDf = londonDf.rename(columns={'week Type_weekend' : 'Weekend'})"
   ]
  },
  {
   "cell_type": "code",
   "execution_count": 16,
   "id": "80c51686",
   "metadata": {},
   "outputs": [
    {
     "data": {
      "text/html": [
       "<div>\n",
       "<style scoped>\n",
       "    .dataframe tbody tr th:only-of-type {\n",
       "        vertical-align: middle;\n",
       "    }\n",
       "\n",
       "    .dataframe tbody tr th {\n",
       "        vertical-align: top;\n",
       "    }\n",
       "\n",
       "    .dataframe thead th {\n",
       "        text-align: right;\n",
       "    }\n",
       "</style>\n",
       "<table border=\"1\" class=\"dataframe\">\n",
       "  <thead>\n",
       "    <tr style=\"text-align: right;\">\n",
       "      <th></th>\n",
       "      <th>Price</th>\n",
       "      <th>Person_Capacity</th>\n",
       "      <th>Cleanliness_Rating</th>\n",
       "      <th>Satisfaction</th>\n",
       "      <th>Bedrooms</th>\n",
       "      <th>Dist</th>\n",
       "      <th>Metro Dist</th>\n",
       "      <th>Entire home/apt</th>\n",
       "      <th>Private room</th>\n",
       "      <th>Shared room</th>\n",
       "      <th>Superhost_False</th>\n",
       "      <th>Superhost_True</th>\n",
       "      <th>Weekdays</th>\n",
       "      <th>Weekend</th>\n",
       "    </tr>\n",
       "  </thead>\n",
       "  <tbody>\n",
       "    <tr>\n",
       "      <th>0</th>\n",
       "      <td>570.098074</td>\n",
       "      <td>2.0</td>\n",
       "      <td>10.0</td>\n",
       "      <td>98.0</td>\n",
       "      <td>1</td>\n",
       "      <td>5.301018</td>\n",
       "      <td>1.588990</td>\n",
       "      <td>1</td>\n",
       "      <td>0</td>\n",
       "      <td>0</td>\n",
       "      <td>1</td>\n",
       "      <td>0</td>\n",
       "      <td>1</td>\n",
       "      <td>0</td>\n",
       "    </tr>\n",
       "    <tr>\n",
       "      <th>1</th>\n",
       "      <td>297.984430</td>\n",
       "      <td>2.0</td>\n",
       "      <td>10.0</td>\n",
       "      <td>99.0</td>\n",
       "      <td>1</td>\n",
       "      <td>2.198946</td>\n",
       "      <td>0.379262</td>\n",
       "      <td>0</td>\n",
       "      <td>1</td>\n",
       "      <td>0</td>\n",
       "      <td>0</td>\n",
       "      <td>1</td>\n",
       "      <td>1</td>\n",
       "      <td>0</td>\n",
       "    </tr>\n",
       "    <tr>\n",
       "      <th>2</th>\n",
       "      <td>336.790611</td>\n",
       "      <td>2.0</td>\n",
       "      <td>10.0</td>\n",
       "      <td>96.0</td>\n",
       "      <td>1</td>\n",
       "      <td>2.322958</td>\n",
       "      <td>0.453178</td>\n",
       "      <td>0</td>\n",
       "      <td>1</td>\n",
       "      <td>0</td>\n",
       "      <td>1</td>\n",
       "      <td>0</td>\n",
       "      <td>1</td>\n",
       "      <td>0</td>\n",
       "    </tr>\n",
       "    <tr>\n",
       "      <th>3</th>\n",
       "      <td>226.722171</td>\n",
       "      <td>2.0</td>\n",
       "      <td>10.0</td>\n",
       "      <td>99.0</td>\n",
       "      <td>1</td>\n",
       "      <td>5.707825</td>\n",
       "      <td>1.723977</td>\n",
       "      <td>0</td>\n",
       "      <td>1</td>\n",
       "      <td>0</td>\n",
       "      <td>0</td>\n",
       "      <td>1</td>\n",
       "      <td>1</td>\n",
       "      <td>0</td>\n",
       "    </tr>\n",
       "    <tr>\n",
       "      <th>4</th>\n",
       "      <td>256.355982</td>\n",
       "      <td>3.0</td>\n",
       "      <td>9.0</td>\n",
       "      <td>98.0</td>\n",
       "      <td>1</td>\n",
       "      <td>3.257945</td>\n",
       "      <td>0.825417</td>\n",
       "      <td>0</td>\n",
       "      <td>1</td>\n",
       "      <td>0</td>\n",
       "      <td>1</td>\n",
       "      <td>0</td>\n",
       "      <td>1</td>\n",
       "      <td>0</td>\n",
       "    </tr>\n",
       "  </tbody>\n",
       "</table>\n",
       "</div>"
      ],
      "text/plain": [
       "        Price  Person_Capacity  Cleanliness_Rating  Satisfaction  Bedrooms  \\\n",
       "0  570.098074              2.0                10.0          98.0         1   \n",
       "1  297.984430              2.0                10.0          99.0         1   \n",
       "2  336.790611              2.0                10.0          96.0         1   \n",
       "3  226.722171              2.0                10.0          99.0         1   \n",
       "4  256.355982              3.0                 9.0          98.0         1   \n",
       "\n",
       "       Dist  Metro Dist  Entire home/apt  Private room  Shared room  \\\n",
       "0  5.301018    1.588990                1             0            0   \n",
       "1  2.198946    0.379262                0             1            0   \n",
       "2  2.322958    0.453178                0             1            0   \n",
       "3  5.707825    1.723977                0             1            0   \n",
       "4  3.257945    0.825417                0             1            0   \n",
       "\n",
       "   Superhost_False  Superhost_True  Weekdays  Weekend  \n",
       "0                1               0         1        0  \n",
       "1                0               1         1        0  \n",
       "2                1               0         1        0  \n",
       "3                0               1         1        0  \n",
       "4                1               0         1        0  "
      ]
     },
     "execution_count": 16,
     "metadata": {},
     "output_type": "execute_result"
    }
   ],
   "source": [
    "londonDf.head()"
   ]
  },
  {
   "cell_type": "code",
   "execution_count": null,
   "id": "e4909ce9",
   "metadata": {},
   "outputs": [],
   "source": []
  },
  {
   "cell_type": "code",
   "execution_count": null,
   "id": "989da39a",
   "metadata": {},
   "outputs": [],
   "source": []
  },
  {
   "cell_type": "code",
   "execution_count": null,
   "id": "e1239514",
   "metadata": {},
   "outputs": [],
   "source": []
  },
  {
   "cell_type": "code",
   "execution_count": 18,
   "id": "b38b4f69",
   "metadata": {},
   "outputs": [
    {
     "name": "stdout",
     "output_type": "stream",
     "text": [
      "               Feature       F-test        p-value\n",
      "0      Person_Capacity  1417.085111  3.935285e-290\n",
      "6      Entire home/apt  1321.682711  6.723307e-272\n",
      "7         Private room  1284.301626  1.032301e-264\n",
      "3             Bedrooms  1077.502806  1.614786e-224\n",
      "4                 Dist   496.183026  2.564745e-107\n",
      "5           Metro Dist   232.880497   5.401618e-52\n",
      "8          Shared room     7.550309   6.010740e-03\n",
      "1   Cleanliness_Rating     2.161422   1.415452e-01\n",
      "9      Superhost_False     2.038105   1.534319e-01\n",
      "10      Superhost_True     2.038105   1.534319e-01\n",
      "12             Weekend     0.193379   6.601287e-01\n",
      "11            Weekdays     0.193379   6.601287e-01\n",
      "2         Satisfaction     0.160220   6.889631e-01\n"
     ]
    },
    {
     "data": {
      "image/png": "[encoded data removed]",
      "text/plain": [
       "<Figure size 1000x600 with 1 Axes>"
      ]
     },
     "metadata": {},
     "output_type": "display_data"
    }
   ],
   "source": [
    "import pandas as pd\n",
    "import numpy as np\n",
    "import matplotlib.pyplot as plt\n",
    "from sklearn.datasets import make_regression\n",
    "from sklearn.feature_selection import f_regression\n",
    "\n",
    "# Assuming your data is stored in a pandas DataFrame named 'data'\n",
    "# Extract the features and the target variable\n",
    "X = londonDf.drop('Price', axis=1)\n",
    "y = londonDf['Price']\n",
    "\n",
    "# Compute the F-test and the p-values for the features\n",
    "f_values, p_values = f_regression(X, y)\n",
    "\n",
    "# Create a DataFrame to store feature names, F-test scores, and p-values\n",
    "feature_importance = pd.DataFrame({'Feature': X.columns, 'F-test': f_values, 'p-value': p_values})\n",
    "\n",
    "# Sort the features based on F-test scores in descending order\n",
    "feature_importance.sort_values(by='F-test', ascending=False, inplace=True)\n",
    "\n",
    "# Print the feature ranking\n",
    "print(feature_importance)\n",
    "\n",
    "# Plot the feature importances\n",
    "plt.figure(figsize=(10, 6))\n",
    "plt.bar(feature_importance['Feature'], feature_importance['F-test'], color='b', align='center')\n",
    "plt.xlabel('')\n",
    "plt.ylabel('F-test Scores')\n",
    "plt.title('Feature Importance based on F-test Scores')\n",
    "plt.xticks(rotation=90)\n",
    "plt.show()"
   ]
  },
  {
   "cell_type": "markdown",
   "id": "6232bf7f",
   "metadata": {},
   "source": [
    "Linear Regression. "
   ]
  },
  {
   "cell_type": "code",
   "execution_count": 20,
   "id": "789501b0",
   "metadata": {},
   "outputs": [],
   "source": [
    "import pandas as pd\n",
    "from sklearn.model_selection import train_test_split\n",
    "\n",
    "# Define your feature matrix and target variable\n",
    "X = londonDf[['Person_Capacity','Entire home/apt', 'Private room', 'Bedrooms', 'Dist', 'Metro Dist']] \n",
    "y = londonDf['Price'] "
   ]
  },
  {
   "cell_type": "code",
   "execution_count": 21,
   "id": "f8f5c4fe",
   "metadata": {},
   "outputs": [
    {
     "name": "stdout",
     "output_type": "stream",
     "text": [
      "Mean Squared Error (test set): 0.04168089061274856\n",
      "R-squared (test set): 0.9999701457341349\n"
     ]
    },
    {
     "data": {
      "image/png": "[encoded data removed]",
      "text/plain": [
       "<Figure size 640x480 with 1 Axes>"
      ]
     },
     "metadata": {},
     "output_type": "display_data"
    }
   ],
   "source": [
    "import numpy as np\n",
    "import matplotlib.pyplot as plt\n",
    "from sklearn.datasets import make_regression\n",
    "from sklearn.model_selection import train_test_split, KFold\n",
    "from sklearn.linear_model import LinearRegression\n",
    "from sklearn.metrics import mean_squared_error, r2_score\n",
    "\n",
    "# Generate some random data for demonstration\n",
    "X, y = make_regression(n_samples=100, n_features=1, noise=0.2, random_state=42)\n",
    "\n",
    "# Split the data into training and testing sets\n",
    "X_train, X_test, y_train, y_test = train_test_split(X, y, test_size=0.2, random_state=42)\n",
    "\n",
    "# Create a linear regression model\n",
    "model = LinearRegression()\n",
    "\n",
    "# Initialize KFold with 5 splits\n",
    "kf = KFold(n_splits=5, shuffle=True, random_state=42)\n",
    "\n",
    "# Perform k-fold cross-validation\n",
    "mse_scores = []\n",
    "r2_scores = []\n",
    "\n",
    "for train_index, test_index in kf.split(X_train):\n",
    "    X_train_kf, X_val_kf = X_train[train_index], X_train[test_index]\n",
    "    y_train_kf, y_val_kf = y_train[train_index], y_train[test_index]\n",
    "\n",
    "    # Train the model on the training fold\n",
    "    model.fit(X_train_kf, y_train_kf)\n",
    "\n",
    "    # Predict on the validation fold\n",
    "    y_pred_kf = model.predict(X_val_kf)\n",
    "\n",
    "    # Calculate the evaluation metrics for the fold\n",
    "    mse_scores.append(mean_squared_error(y_val_kf, y_pred_kf))\n",
    "    r2_scores.append(r2_score(y_val_kf, y_pred_kf))\n",
    "\n",
    "# Calculate the mean of the cross-validated scores\n",
    "mean_mse_score = np.mean(mse_scores)\n",
    "mean_r2_score = np.mean(r2_scores)\n",
    "\n",
    "# Train the model on the entire training data\n",
    "model.fit(X_train, y_train)\n",
    "\n",
    "# Predict on the test set\n",
    "y_pred_test = model.predict(X_test)\n",
    "\n",
    "# Calculate the evaluation metrics for the test set\n",
    "mse_test = mean_squared_error(y_test, y_pred_test)\n",
    "r2_test = r2_score(y_test, y_pred_test)\n",
    "\n",
    "# Print the evaluation metrics for the test set\n",
    "print(\"Mean Squared Error (test set):\", mse_test)\n",
    "print(\"R-squared (test set):\", r2_test)\n",
    "\n",
    "# Plot the original data points\n",
    "plt.scatter(X_test, y_test, color='black', label='Test Data')\n",
    "plt.scatter(X_train, y_train, color='blue', label='Train Data')\n",
    "\n",
    "# Plot the regression line\n",
    "y_regression_line = model.coef_ * X_test + model.intercept_\n",
    "plt.plot(X_test, y_regression_line, color='red', linewidth=2, label='Regression Line')\n",
    "\n",
    "# Set plot labels and title\n",
    "plt.xlabel('X')\n",
    "plt.ylabel('y')\n",
    "plt.title('Linear Regression and Test Data')\n",
    "plt.legend()\n",
    "plt.show()"
   ]
  },
  {
   "cell_type": "code",
   "execution_count": 22,
   "id": "7291d6dc",
   "metadata": {},
   "outputs": [
    {
     "name": "stdout",
     "output_type": "stream",
     "text": [
      "Mean Squared Error (test set): 0.041389210733755046\n",
      "R-squared (test set): 0.9999723874139402\n"
     ]
    },
    {
     "data": {
      "image/png": "[encoded data removed]",
      "text/plain": [
       "<Figure size 640x480 with 1 Axes>"
      ]
     },
     "metadata": {},
     "output_type": "display_data"
    }
   ],
   "source": [
    "import numpy as np\n",
    "import matplotlib.pyplot as plt\n",
    "from sklearn.datasets import make_regression\n",
    "from sklearn.model_selection import train_test_split, KFold\n",
    "from sklearn.linear_model import LinearRegression\n",
    "from sklearn.metrics import mean_squared_error, r2_score\n",
    "\n",
    "# Generate some random data for demonstration\n",
    "X, y = make_regression(n_samples=100, n_features=1, noise=0.2, random_state=42)\n",
    "\n",
    "# Split the data into training and testing sets\n",
    "X_train, X_test, y_train, y_test = train_test_split(X, y, test_size=0.3, random_state=42)\n",
    "\n",
    "# Create a linear regression model\n",
    "model = LinearRegression()\n",
    "\n",
    "# Initialize KFold with 5 splits\n",
    "kf = KFold(n_splits=5, shuffle=True, random_state=42)\n",
    "\n",
    "# Perform k-fold cross-validation\n",
    "mse_scores = []\n",
    "r2_scores = []\n",
    "\n",
    "for train_index, test_index in kf.split(X_train):\n",
    "    X_train_kf, X_val_kf = X_train[train_index], X_train[test_index]\n",
    "    y_train_kf, y_val_kf = y_train[train_index], y_train[test_index]\n",
    "\n",
    "    # Train the model on the training fold\n",
    "    model.fit(X_train_kf, y_train_kf)\n",
    "\n",
    "    # Predict on the validation fold\n",
    "    y_pred_kf = model.predict(X_val_kf)\n",
    "\n",
    "    # Calculate the evaluation metrics for the fold\n",
    "    mse_scores.append(mean_squared_error(y_val_kf, y_pred_kf))\n",
    "    r2_scores.append(r2_score(y_val_kf, y_pred_kf))\n",
    "\n",
    "# Calculate the mean of the cross-validated scores\n",
    "mean_mse_score = np.mean(mse_scores)\n",
    "mean_r2_score = np.mean(r2_scores)\n",
    "\n",
    "# Train the model on the entire training data\n",
    "model.fit(X_train, y_train)\n",
    "\n",
    "# Predict on the test set\n",
    "y_pred_test = model.predict(X_test)\n",
    "\n",
    "# Calculate the evaluation metrics for the test set\n",
    "mse_test = mean_squared_error(y_test, y_pred_test)\n",
    "r2_test = r2_score(y_test, y_pred_test)\n",
    "\n",
    "# Print the evaluation metrics for the test set\n",
    "print(\"Mean Squared Error (test set):\", mse_test)\n",
    "print(\"R-squared (test set):\", r2_test)\n",
    "\n",
    "# Plot the original data points\n",
    "plt.scatter(X_test, y_test, color='black', label='Test Data')\n",
    "plt.scatter(X_train, y_train, color='blue', label='Train Data')\n",
    "\n",
    "# Plot the regression line\n",
    "y_regression_line = model.coef_ * X_test + model.intercept_\n",
    "plt.plot(X_test, y_regression_line, color='red', linewidth=2, label='Regression Line')\n",
    "\n",
    "# Set plot labels and title\n",
    "plt.xlabel('X')\n",
    "plt.ylabel('y')\n",
    "plt.title('Linear Regression and Test Data')\n",
    "plt.legend()\n",
    "plt.show()\n"
   ]
  },
  {
   "cell_type": "code",
   "execution_count": 23,
   "id": "a5e8acfe",
   "metadata": {},
   "outputs": [
    {
     "name": "stdout",
     "output_type": "stream",
     "text": [
      "Mean Absolute Percentage Error (MAPE) for the test set: 0.78%\n"
     ]
    }
   ],
   "source": [
    "def mean_absolute_percentage_error(y_true, y_pred): \n",
    "    \"\"\"\n",
    "    Calculate Mean Absolute Percentage Error (MAPE).\n",
    "    :param y_true: Array of true values.\n",
    "    :param y_pred: Array of predicted values.\n",
    "    :return: MAPE value.\n",
    "    \"\"\"\n",
    "    return np.mean(np.abs((y_true - y_pred) / y_true)) * 100\n",
    "\n",
    "# Calculate MAPE for the test set\n",
    "mape_test = mean_absolute_percentage_error(y_test, y_pred_test)\n",
    "print(\"Mean Absolute Percentage Error (MAPE) for the test set: {:.2f}%\".format(mape_test))"
   ]
  },
  {
   "cell_type": "markdown",
   "id": "1b52c4ed",
   "metadata": {},
   "source": [
    "Random Forest "
   ]
  },
  {
   "cell_type": "code",
   "execution_count": 24,
   "id": "b5eefe11",
   "metadata": {},
   "outputs": [
    {
     "name": "stdout",
     "output_type": "stream",
     "text": [
      "Mean Squared Error: 955.7132206965955\n",
      "R-squared: 0.8997897677679708\n"
     ]
    },
    {
     "data": {
      "image/png": "[encoded data removed]",
      "text/plain": [
       "<Figure size 640x480 with 1 Axes>"
      ]
     },
     "metadata": {},
     "output_type": "display_data"
    }
   ],
   "source": [
    "import numpy as np\n",
    "import matplotlib.pyplot as plt\n",
    "from sklearn.datasets import make_regression\n",
    "from sklearn.model_selection import KFold, cross_val_predict\n",
    "from sklearn.ensemble import RandomForestRegressor\n",
    "from sklearn.metrics import mean_squared_error, r2_score\n",
    "\n",
    "# Generate some random data for demonstration\n",
    "X, y = make_regression(n_samples=100, n_features=4, noise=0.2, random_state=42)\n",
    "\n",
    "# Create a random forest regressor\n",
    "model = RandomForestRegressor(n_estimators=100, random_state=42)\n",
    "\n",
    "# Initialize KFold with 5 splits\n",
    "kf = KFold(n_splits=5, shuffle=True, random_state=42)\n",
    "\n",
    "# Perform k-fold cross-validation and get the predicted values\n",
    "y_pred = cross_val_predict(model, X, y, cv=kf)\n",
    "\n",
    "# Calculate the mean squared error and R-squared for the predicted values\n",
    "mse = mean_squared_error(y, y_pred)\n",
    "r2 = r2_score(y, y_pred)\n",
    "\n",
    "# Print the mean squared error and R-squared\n",
    "print(\"Mean Squared Error:\", mse)\n",
    "print(\"R-squared:\", r2)\n",
    "\n",
    "# Plot the results\n",
    "plt.scatter(y, y_pred, color='b', label='Predicted vs True')\n",
    "plt.plot([y.min(), y.max()], [y.min(), y.max()], color='r', linestyle='--', label='Ideal line')\n",
    "plt.xlabel('True Values')\n",
    "plt.ylabel('Predicted Values')\n",
    "plt.title('Random Forest Model: True vs Predicted Values')\n",
    "plt.legend()\n",
    "plt.show()\n"
   ]
  },
  {
   "cell_type": "code",
   "execution_count": 25,
   "id": "7fbcf108",
   "metadata": {},
   "outputs": [
    {
     "name": "stdout",
     "output_type": "stream",
     "text": [
      "Mean Absolute Percentage Error (MAPE): 171.88%\n"
     ]
    }
   ],
   "source": [
    "def mean_absolute_percentage_error(y_true, y_pred): \n",
    "    \"\"\"\n",
    "    Calculate Mean Absolute Percentage Error (MAPE).\n",
    "    :param y_true: Array of true values.\n",
    "    :param y_pred: Array of predicted values.\n",
    "    :return: MAPE value.\n",
    "    \"\"\"\n",
    "    return np.mean(np.abs((y_true - y_pred) / y_true)) * 100\n",
    "\n",
    "# Calculate MAPE for the predicted values\n",
    "mape = mean_absolute_percentage_error(y, y_pred)\n",
    "print(\"Mean Absolute Percentage Error (MAPE): {:.2f}%\".format(mape))"
   ]
  },
  {
   "cell_type": "markdown",
   "id": "172aa35a",
   "metadata": {},
   "source": [
    "Gradient Boosting Regressor (GBM)"
   ]
  },
  {
   "cell_type": "code",
   "execution_count": 26,
   "id": "e2e5ce88",
   "metadata": {},
   "outputs": [
    {
     "name": "stdout",
     "output_type": "stream",
     "text": [
      "Mean Squared Error: 752.5593438639022\n"
     ]
    },
    {
     "data": {
      "image/png": "[encoded data removed]",
      "text/plain": [
       "<Figure size 640x480 with 1 Axes>"
      ]
     },
     "metadata": {},
     "output_type": "display_data"
    }
   ],
   "source": [
    "import numpy as np\n",
    "import matplotlib.pyplot as plt\n",
    "from sklearn.datasets import make_regression\n",
    "from sklearn.model_selection import KFold, cross_val_predict\n",
    "from sklearn.ensemble import GradientBoostingRegressor\n",
    "from sklearn.metrics import mean_squared_error, r2_score\n",
    "\n",
    "# Generate some random data for demonstration\n",
    "X, y = make_regression(n_samples=100, n_features=4, noise=0.2, random_state=42)\n",
    "\n",
    "# Create a Gradient Boosting Regressor\n",
    "model = GradientBoostingRegressor(n_estimators=100, learning_rate=0.1, random_state=42)\n",
    "\n",
    "# Initialize KFold with 5 splits\n",
    "kf = KFold(n_splits=5, shuffle=True, random_state=42)\n",
    "\n",
    "# Perform k-fold cross-validation and get the predicted values\n",
    "y_pred = cross_val_predict(model, X, y, cv=kf)\n",
    "\n",
    "# Calculate the mean squared error for the predicted values\n",
    "mse = mean_squared_error(y, y_pred)\n",
    "\n",
    "# Print the mean squared error\n",
    "print(\"Mean Squared Error:\", mse)\n",
    "\n",
    "# Plot the results\n",
    "plt.scatter(y, y_pred, color='b', label='Predicted vs True')\n",
    "plt.plot([y.min(), y.max()], [y.min(), y.max()], color='r', linestyle='--', label='Ideal line')\n",
    "plt.xlabel('True Values')\n",
    "plt.ylabel('Predicted Values')\n",
    "plt.title('Gradient Boosting Model: True vs Predicted Values')\n",
    "plt.legend()\n",
    "plt.show()\n"
   ]
  },
  {
   "cell_type": "code",
   "execution_count": 27,
   "id": "bac98daf",
   "metadata": {},
   "outputs": [
    {
     "name": "stdout",
     "output_type": "stream",
     "text": [
      "Mean Absolute Percentage Error (MAPE): 94.27%\n"
     ]
    }
   ],
   "source": [
    "def mean_absolute_percentage_error(y_true, y_pred): \n",
    "    \"\"\"\n",
    "    Calculate Mean Absolute Percentage Error (MAPE).\n",
    "    :param y_true: Array of true values.\n",
    "    :param y_pred: Array of predicted values.\n",
    "    :return: MAPE value.\n",
    "    \"\"\"\n",
    "    return np.mean(np.abs((y_true - y_pred) / y_true)) * 100\n",
    "\n",
    "# Calculate MAPE for the predicted values\n",
    "mape = mean_absolute_percentage_error(y, y_pred)\n",
    "print(\"Mean Absolute Percentage Error (MAPE): {:.2f}%\".format(mape))\n"
   ]
  },
  {
   "cell_type": "markdown",
   "id": "7ba55b11",
   "metadata": {},
   "source": [
    "K-Nearest Neighbors Regressor (KNN)"
   ]
  },
  {
   "cell_type": "code",
   "execution_count": 28,
   "id": "279f3ec4",
   "metadata": {},
   "outputs": [
    {
     "name": "stdout",
     "output_type": "stream",
     "text": [
      "Cross-validated MSE scores:  [1139.21595577 2355.94756862 1329.47619009 1076.46212987 1936.45624984]\n",
      "Mean cross-validated MSE score:  1567.5116188382822\n",
      "Mean Squared Error: 801.575958524583\n"
     ]
    },
    {
     "data": {
      "image/png": "[encoded data removed]",
      "text/plain": [
       "<Figure size 1000x600 with 1 Axes>"
      ]
     },
     "metadata": {},
     "output_type": "display_data"
    }
   ],
   "source": [
    "import numpy as np\n",
    "import matplotlib.pyplot as plt\n",
    "from sklearn.datasets import make_regression\n",
    "from sklearn.model_selection import train_test_split, KFold, cross_val_score\n",
    "from sklearn.neighbors import KNeighborsRegressor\n",
    "from sklearn.metrics import mean_squared_error\n",
    "\n",
    "# Generate some random data for demonstration\n",
    "X, y = make_regression(n_samples=100, n_features=4, noise=0.2, random_state=42)\n",
    "\n",
    "# Split the data into training and testing sets\n",
    "X_train, X_test, y_train, y_test = train_test_split(X, y, test_size=0.2, random_state=42)\n",
    "\n",
    "# Create a K-Nearest Neighbors Regressor\n",
    "model = KNeighborsRegressor(n_neighbors=5)\n",
    "\n",
    "# Initialize KFold with 5 splits\n",
    "kf = KFold(n_splits=5, shuffle=True, random_state=42)\n",
    "\n",
    "# Perform k-fold cross-validation\n",
    "cv_mse_scores = -cross_val_score(model, X_train, y_train, cv=kf, scoring='neg_mean_squared_error')\n",
    "\n",
    "# Print the cross-validated MSE scores\n",
    "print(\"Cross-validated MSE scores: \", cv_mse_scores)\n",
    "\n",
    "# Calculate the mean of the cross-validated MSE scores\n",
    "mean_cv_mse_score = np.mean(cv_mse_scores)\n",
    "\n",
    "# Print the mean cross-validated MSE score\n",
    "print(\"Mean cross-validated MSE score: \", mean_cv_mse_score)\n",
    "\n",
    "# Fit the model on the training data\n",
    "model.fit(X_train, y_train)\n",
    "\n",
    "# Predict on the test set\n",
    "y_pred = model.predict(X_test)\n",
    "\n",
    "# Calculate the mean squared error\n",
    "mse = mean_squared_error(y_test, y_pred)\n",
    "\n",
    "# Print the mean squared error\n",
    "print(\"Mean Squared Error:\", mse)\n",
    "\n",
    "# Plot the results\n",
    "plt.figure(figsize=(10, 6))\n",
    "plt.scatter(y_test, y_pred, color='b', label='Predicted vs True')\n",
    "plt.plot([y.min(), y.max()], [y.min(), y.max()], color='r', linestyle='--', label='Ideal line')\n",
    "plt.xlabel('True Values')\n",
    "plt.ylabel('Predicted Values')\n",
    "plt.title('K-Nearest Neighbors Model: True vs Predicted Values')\n",
    "plt.legend()\n",
    "plt.show()\n"
   ]
  },
  {
   "cell_type": "code",
   "execution_count": 29,
   "id": "4feb9ae8",
   "metadata": {},
   "outputs": [
    {
     "name": "stdout",
     "output_type": "stream",
     "text": [
      "Mean Absolute Percentage Error (MAPE): 448.34%\n"
     ]
    }
   ],
   "source": [
    "def mean_absolute_percentage_error(y_true, y_pred): \n",
    "    \"\"\"\n",
    "    Calculate Mean Absolute Percentage Error (MAPE).\n",
    "    :param y_true: Array of true values.\n",
    "    :param y_pred: Array of predicted values.\n",
    "    :return: MAPE value.\n",
    "    \"\"\"\n",
    "    return np.mean(np.abs((y_true - y_pred) / y_true)) * 100\n",
    "\n",
    "# Calculate MAPE for the test set\n",
    "mape = mean_absolute_percentage_error(y_test, y_pred)\n",
    "print(\"Mean Absolute Percentage Error (MAPE): {:.2f}%\".format(mape))\n"
   ]
  },
  {
   "cell_type": "markdown",
   "id": "d79eb75a",
   "metadata": {},
   "source": [
    "XGboost Regressor"
   ]
  },
  {
   "cell_type": "code",
   "execution_count": 30,
   "id": "f2c0a38f",
   "metadata": {},
   "outputs": [
    {
     "name": "stdout",
     "output_type": "stream",
     "text": [
      "Mean Squared Error: 1062.8410686953107\n"
     ]
    },
    {
     "data": {
      "image/png": "[encoded data removed]",
      "text/plain": [
       "<Figure size 1000x600 with 1 Axes>"
      ]
     },
     "metadata": {},
     "output_type": "display_data"
    }
   ],
   "source": [
    "import numpy as np\n",
    "import matplotlib.pyplot as plt\n",
    "from sklearn.datasets import make_regression\n",
    "from sklearn.model_selection import train_test_split, KFold, cross_val_predict\n",
    "from xgboost import XGBRegressor\n",
    "from sklearn.metrics import mean_squared_error\n",
    "\n",
    "# Generate some random data for demonstration\n",
    "X, y = make_regression(n_samples=100, n_features=4, noise=0.2, random_state=42)\n",
    "\n",
    "# Split the data into training and testing sets\n",
    "X_train, X_test, y_train, y_test = train_test_split(X, y, test_size=0.2, random_state=42)\n",
    "\n",
    "# Create an XGBoost Regressor\n",
    "model = XGBRegressor()\n",
    "\n",
    "# Initialize KFold with 5 splits\n",
    "kf = KFold(n_splits=5, shuffle=True, random_state=42)\n",
    "\n",
    "# Perform k-fold cross-validation and get the predicted values\n",
    "y_pred = cross_val_predict(model, X_train, y_train, cv=kf)\n",
    "\n",
    "# Calculate the mean squared error for the predicted values\n",
    "mse = mean_squared_error(y_train, y_pred)\n",
    "\n",
    "# Print the mean squared error\n",
    "print(\"Mean Squared Error:\", mse)\n",
    "\n",
    "# Plot the results\n",
    "plt.figure(figsize=(10, 6))\n",
    "plt.scatter(y_train, y_pred, color='b', label='Predicted vs True')\n",
    "plt.plot([y.min(), y.max()], [y.min(), y.max()], color='r', linestyle='--', label='Ideal line')\n",
    "plt.xlabel('True Values')\n",
    "plt.ylabel('Predicted Values')\n",
    "plt.title('XGBoost Model: True vs Predicted Values')\n",
    "plt.legend()\n",
    "plt.show()\n"
   ]
  },
  {
   "cell_type": "code",
   "execution_count": 31,
   "id": "fb29acba",
   "metadata": {},
   "outputs": [
    {
     "name": "stdout",
     "output_type": "stream",
     "text": [
      "Mean Absolute Percentage Error (MAPE): 410.55%\n"
     ]
    }
   ],
   "source": [
    "# Perform k-fold cross-validation and get the predicted values\n",
    "y_pred_list = []\n",
    "for train_index, test_index in kf.split(X_train):\n",
    "    X_train_kf, X_val_kf = X_train[train_index], X_train[test_index]\n",
    "    y_train_kf, y_val_kf = y_train[train_index], y_train[test_index]\n",
    "\n",
    "    model.fit(X_train_kf, y_train_kf)\n",
    "    y_pred_kf = model.predict(X_val_kf)\n",
    "    y_pred_list.extend(y_pred_kf)\n",
    "\n",
    "y_pred = np.array(y_pred_list)\n",
    "\n",
    "# Calculate MAPE for the predicted values\n",
    "mape = mean_absolute_percentage_error(y_train, y_pred)\n",
    "print(\"Mean Absolute Percentage Error (MAPE): {:.2f}%\".format(mape))\n"
   ]
  },
  {
   "cell_type": "markdown",
   "id": "4c6ae779",
   "metadata": {},
   "source": [
    "# BARBARA"
   ]
  },
  {
   "cell_type": "code",
   "execution_count": null,
   "id": "bb02629e",
   "metadata": {},
   "outputs": [],
   "source": [
    "import pandas as pd\n",
    "from sklearn.preprocessing import OneHotEncoder, StandardScaler\n",
    "from sklearn.compose import ColumnTransformer\n",
    "from sklearn.pipeline import Pipeline\n",
    "from sklearn.impute import SimpleImputer\n",
    "from sklearn.model_selection import GridSearchCV, train_test_split\n",
    "from sklearn.ensemble import RandomForestClassifier, GradientBoostingClassifier\n",
    "from sklearn.svm import SVC\n",
    "from sklearn.metrics import accuracy_score\n",
    "import pandas as pd\n",
    "import seaborn as sns\n",
    "import matplotlib.pyplot as plt\n",
    "from sklearn.preprocessing import LabelEncoder"
   ]
  },
  {
   "cell_type": "markdown",
   "id": "850d4aa2",
   "metadata": {},
   "source": [
    "#### Load and Prepare the Data"
   ]
  },
  {
   "cell_type": "code",
   "execution_count": null,
   "id": "93ded309",
   "metadata": {},
   "outputs": [],
   "source": [
    "data = pd.read_csv('london_weekends.csv')"
   ]
  },
  {
   "cell_type": "code",
   "execution_count": null,
   "id": "240f66a3",
   "metadata": {},
   "outputs": [],
   "source": [
    "data.head()"
   ]
  },
  {
   "cell_type": "code",
   "execution_count": null,
   "id": "0102d841",
   "metadata": {},
   "outputs": [],
   "source": [
    "data_encoded = pd.get_dummies(data, columns=['room_type', 'room_shared', 'room_private'], drop_first=True)"
   ]
  },
  {
   "cell_type": "code",
   "execution_count": null,
   "id": "0b0e8565",
   "metadata": {},
   "outputs": [],
   "source": [
    "data_encoded = pd.get_dummies(data, columns=['room_type'], drop_first=True)"
   ]
  },
  {
   "cell_type": "code",
   "execution_count": null,
   "id": "1b9b615d",
   "metadata": {},
   "outputs": [],
   "source": [
    "X = data.drop(['Unnamed: 0', 'host_is_superhost'], axis=1)\n",
    "y = data['host_is_superhost']"
   ]
  },
  {
   "cell_type": "markdown",
   "id": "94d72d2a",
   "metadata": {},
   "source": [
    "X is a DataFrame containing features, excluding the 'Unnamed: 0' column and the target variable 'host_is_superhost'.\n",
    "\n",
    "y is a Series containing the target variable 'host_is_superhost'."
   ]
  },
  {
   "cell_type": "markdown",
   "id": "da2beff4",
   "metadata": {},
   "source": [
    "#### Defining Categorical and Numerical Features¶"
   ]
  },
  {
   "cell_type": "code",
   "execution_count": null,
   "id": "b5af25b3",
   "metadata": {},
   "outputs": [],
   "source": [
    "categorical_features = ['room_type', 'room_shared', 'room_private']\n",
    "numerical_features = ['realSum', 'person_capacity', 'multi', 'biz', 'cleanliness_rating', 'guest_satisfaction_overall', 'bedrooms', 'dist', 'metro_dist', 'attr_index', 'attr_index_norm', 'rest_index', 'rest_index_norm', 'lng', 'lat']"
   ]
  },
  {
   "cell_type": "markdown",
   "id": "5869d4f7",
   "metadata": {},
   "source": [
    "Separating our features into categorical and numerical variables. This information is used for preprocessing."
   ]
  },
  {
   "cell_type": "markdown",
   "id": "a28f1233",
   "metadata": {},
   "source": [
    "#### Create Transformers for Preprocessing"
   ]
  },
  {
   "cell_type": "code",
   "execution_count": null,
   "id": "64d38b28",
   "metadata": {},
   "outputs": [],
   "source": [
    "categorical_transformer = Pipeline(steps=[\n",
    "    ('imputer', SimpleImputer(strategy='constant', fill_value='missing')),\n",
    "    ('onehot', OneHotEncoder(handle_unknown='ignore'))\n",
    "])\n",
    "\n",
    "numerical_transformer = Pipeline(steps=[\n",
    "    ('imputer', SimpleImputer(strategy='median')),\n",
    "    ('scaler', StandardScaler())\n",
    "])"
   ]
  },
  {
   "cell_type": "markdown",
   "id": "999410b5",
   "metadata": {},
   "source": [
    "#### Split Data into Training and Testing Sets"
   ]
  },
  {
   "cell_type": "code",
   "execution_count": null,
   "id": "f22378ff",
   "metadata": {},
   "outputs": [],
   "source": [
    "X_train, X_test, y_train, y_test = train_test_split(X, y, test_size=0.2, random_state=42)"
   ]
  },
  {
   "cell_type": "code",
   "execution_count": null,
   "id": "1c6d5a1d",
   "metadata": {},
   "outputs": [],
   "source": [
    "X_train.shape, X_test.shape"
   ]
  },
  {
   "cell_type": "markdown",
   "id": "3ce7ad36",
   "metadata": {},
   "source": [
    "#### Define Classifiers"
   ]
  },
  {
   "cell_type": "code",
   "execution_count": null,
   "id": "7d31d8bb",
   "metadata": {},
   "outputs": [],
   "source": [
    "classifiers = {\n",
    "    'Random Forest': RandomForestClassifier(),\n",
    "    'Gradient Boosting': GradientBoostingClassifier(),\n",
    "    'SVM': SVC()\n",
    "}"
   ]
  },
  {
   "cell_type": "markdown",
   "id": "f0ac965c",
   "metadata": {},
   "source": [
    "#### One-hot encode categorical variables"
   ]
  },
  {
   "cell_type": "code",
   "execution_count": null,
   "id": "e92594d0",
   "metadata": {},
   "outputs": [],
   "source": [
    "\n",
    "data_encoded = pd.get_dummies(data, columns=['room_type'], drop_first=True)\n",
    "\n",
    "# Separate features and target variable\n",
    "X = data_encoded.drop(['Unnamed: 0', 'host_is_superhost'], axis=1)\n",
    "y = data_encoded['host_is_superhost']\n",
    "\n",
    "# Define the classifier\n",
    "clf = RandomForestClassifier()  # You can use any other classifier here\n",
    "\n",
    "# Apply cross-validation\n",
    "from sklearn.model_selection import cross_val_score\n",
    "\n",
    "# Perform 5-fold cross-validation\n",
    "cv_scores = cross_val_score(clf, X, y, cv=5)\n",
    "\n",
    "# Print the cross-validation scores\n",
    "print(\"Cross-validation scores:\", cv_scores)\n",
    "\n",
    "# Calculate and print the mean and standard deviation of the scores\n",
    "print(f\"Mean accuracy: {cv_scores.mean():.2f}\")\n",
    "print(f\"Standard deviation: {cv_scores.std():.2f}\")\n"
   ]
  },
  {
   "cell_type": "code",
   "execution_count": null,
   "id": "fd5f0bc4",
   "metadata": {},
   "outputs": [],
   "source": []
  },
  {
   "cell_type": "markdown",
   "id": "ea7f6e1d",
   "metadata": {},
   "source": [
    "### CONCATANED DATASET"
   ]
  },
  {
   "cell_type": "code",
   "execution_count": null,
   "id": "ef8db41a",
   "metadata": {},
   "outputs": [],
   "source": [
    "london_weekdays = pd.read_csv('london_weekdays.csv')\n",
    "london_weekends = pd.read_csv('london_weekends.csv')\n",
    "\n",
    "print(f\"Shape of london_weekdays: {london_weekdays.shape}\")\n",
    "print(f\"Shape of london_weekends: {london_weekends.shape}\")"
   ]
  },
  {
   "cell_type": "markdown",
   "id": "42259a51",
   "metadata": {},
   "source": [
    "#### Add a new column to indicate the type of week"
   ]
  },
  {
   "cell_type": "code",
   "execution_count": null,
   "id": "8cd810a7",
   "metadata": {},
   "outputs": [],
   "source": [
    "london_weekdays['week Type'] = 'weekdays'\n",
    "london_weekends['week Type'] = 'weekend'"
   ]
  },
  {
   "cell_type": "code",
   "execution_count": null,
   "id": "cdb32d1a",
   "metadata": {},
   "outputs": [],
   "source": [
    "print(f\"Columns of london_weekends: {london_weekends.columns}\")"
   ]
  },
  {
   "cell_type": "code",
   "execution_count": null,
   "id": "a3ff494e",
   "metadata": {},
   "outputs": [],
   "source": [
    "# Concatenate the datasets\n",
    "londonDt = pd.concat([london_weekdays, london_weekends]).copy()"
   ]
  },
  {
   "cell_type": "code",
   "execution_count": null,
   "id": "6b18b7e1",
   "metadata": {},
   "outputs": [],
   "source": [
    "# Drop the initial index column\n",
    "londonDt.drop(columns=['Unnamed: 0'], inplace=True)"
   ]
  },
  {
   "cell_type": "code",
   "execution_count": null,
   "id": "e6d8699b",
   "metadata": {},
   "outputs": [],
   "source": [
    "# Check for missing values\n",
    "print(londonDt.isnull().sum())"
   ]
  },
  {
   "cell_type": "code",
   "execution_count": null,
   "id": "68d81a4e",
   "metadata": {},
   "outputs": [],
   "source": [
    "londonDt"
   ]
  },
  {
   "cell_type": "code",
   "execution_count": null,
   "id": "e690214a",
   "metadata": {},
   "outputs": [],
   "source": [
    "londonDt['room_type'].value_counts()"
   ]
  },
  {
   "cell_type": "code",
   "execution_count": null,
   "id": "c3e7b371",
   "metadata": {},
   "outputs": [],
   "source": [
    "# Calculate mean price of each room type\n",
    "roomtype_mean = londonDt.groupby('room_type')['realSum'].mean().reset_index().rename(columns={'realSum': 'Average Price'})"
   ]
  },
  {
   "cell_type": "code",
   "execution_count": null,
   "id": "2ffd525e",
   "metadata": {},
   "outputs": [],
   "source": [
    "# Count the number of each room type\n",
    "roomtype_count = londonDt['room_type'].value_counts().reset_index().rename(columns={'index': 'roomType', 'room_type': 'count'})"
   ]
  },
  {
   "cell_type": "code",
   "execution_count": null,
   "id": "9014cfcd",
   "metadata": {},
   "outputs": [],
   "source": [
    "# Create a figure with two subplots\n",
    "import matplotlib.pyplot as plt\n",
    "\n",
    "fig, ax = plt.subplots(nrows=1, ncols=2, figsize=(25, 9))\n",
    "\n",
    "# Plot the count of each room type\n",
    "sns.barplot(data=roomtype_count, y='roomType', x='count', ax=ax[0], color='skyblue')\n",
    "ax[0].set_title('Count of Each Room Type')\n",
    "ax[0].set_xlabel('Count')\n",
    "ax[0].set_ylabel('Room Type')\n",
    "\n",
    "# Plot the mean price of each room type\n",
    "sns.barplot(data=roomtype_mean, y='room_type', x='Average Price', ax=ax[1], color='coral')\n",
    "ax[1].set_title('Average Price of Each Room Type')\n",
    "ax[1].set_xlabel('Average Price (in $)')\n",
    "ax[1].set_ylabel('Room Type')\n",
    "\n",
    "# Increase font size of axis labels, title and tick labels\n",
    "plt.rcParams.update({'font.size': 14})\n",
    "\n",
    "# Remove gridlines\n",
    "sns.despine()\n",
    "\n",
    "# Display the mean price of each room type\n",
    "print(roomtype_mean)\n",
    "print(roomtype_count)"
   ]
  },
  {
   "cell_type": "code",
   "execution_count": null,
   "id": "13bc25df",
   "metadata": {},
   "outputs": [],
   "source": [
    "import numpy as np\n",
    "import scipy.stats as stats\n",
    "\n",
    "dummy = londonDt[['room_type']]\n",
    "dummy = pd.get_dummies(dummy)\n",
    "\n",
    "sales_log = np.log(londonDt['realSum'].copy())\n",
    "\n",
    "for i in dummy.columns:\n",
    "    rho,pval = stats.spearmanr(dummy[i],sales_log )\n",
    "    print(f'{i} coor with price = {rho}, p value = {pval}')"
   ]
  },
  {
   "cell_type": "code",
   "execution_count": null,
   "id": "1bdc8f2b",
   "metadata": {},
   "outputs": [],
   "source": [
    "londonDt.sort_values(by = ['lat', 'lng']).head(30)"
   ]
  },
  {
   "cell_type": "code",
   "execution_count": null,
   "id": "c5caa196",
   "metadata": {},
   "outputs": [],
   "source": [
    "import plotly_express as px\n",
    "fig = px.density_mapbox(londonDt, lat='lat', lon='lng',\n",
    "                        z='realSum', radius=20,\n",
    "                        center=dict(lat=londonDt.lat.mean(), \n",
    "                                    lon=londonDt.lng.mean()), \n",
    "                        zoom=10,\n",
    "                        mapbox_style=\"open-street-map\", \n",
    "                        height=600)\n",
    "fig.show()"
   ]
  },
  {
   "cell_type": "code",
   "execution_count": null,
   "id": "1d45604b",
   "metadata": {},
   "outputs": [],
   "source": [
    "import folium\n",
    "from folium.plugins import HeatMap\n",
    "\n",
    "m = folium.Map(location=[londonDt.lat.mean(), \n",
    "                         londonDt.lng.mean()], \n",
    "               zoom_start=6, control_scale=True)"
   ]
  },
  {
   "cell_type": "code",
   "execution_count": null,
   "id": "c59224a5",
   "metadata": {},
   "outputs": [],
   "source": [
    "map_values = londonDt[['lat','lng','realSum']]\n",
    "\n",
    "data = map_values.values.tolist()\n",
    "\n",
    "hm = HeatMap(data,\n",
    "              min_opacity=0.05, \n",
    "              max_opacity=0.9, \n",
    "              radius=25).add_to(m)"
   ]
  },
  {
   "cell_type": "code",
   "execution_count": null,
   "id": "b4873583",
   "metadata": {},
   "outputs": [],
   "source": [
    "hm.save('output1.html')"
   ]
  },
  {
   "cell_type": "code",
   "execution_count": null,
   "id": "c7fe6873",
   "metadata": {},
   "outputs": [],
   "source": [
    "# What are the most popular week type?"
   ]
  },
  {
   "cell_type": "code",
   "execution_count": null,
   "id": "fa666c53",
   "metadata": {},
   "outputs": [],
   "source": [
    "londonDt['week Type'].value_counts()"
   ]
  },
  {
   "cell_type": "code",
   "execution_count": null,
   "id": "0c29c1ec",
   "metadata": {},
   "outputs": [],
   "source": [
    "fig = px.histogram(\n",
    "    londonDt,\n",
    "    x='week Type',\n",
    "    text_auto=True,\n",
    "    title='Number of listings by week Type',\n",
    "    height=600\n",
    "    )\n",
    "fig.update_xaxes(\n",
    "    categoryorder='total descending',\n",
    "    tickangle=45\n",
    "    )\n",
    "fig.update_traces(textposition='outside')\n",
    "\n",
    "fig.show()"
   ]
  },
  {
   "cell_type": "markdown",
   "id": "2fc163e3",
   "metadata": {},
   "source": [
    "### Significance relationship between room_type and realSum(aka. price)"
   ]
  },
  {
   "cell_type": "code",
   "execution_count": null,
   "id": "56085b4b",
   "metadata": {},
   "outputs": [],
   "source": [
    "import numpy as np\n",
    "from scipy.stats import f\n",
    "import seaborn as sns\n",
    "import matplotlib.pyplot as plt\n",
    "\n",
    "# Extract groups based on room type\n",
    "Group1 = londonDt[londonDt['room_type'] == 'Entire home/apt'][['realSum', 'room_type']]\n",
    "Group2 = londonDt[londonDt['room_type'] == 'Private room'][['realSum', 'room_type']]\n",
    "Group3 = londonDt[londonDt['room_type'] == 'Shared room'][['realSum', 'room_type']]"
   ]
  },
  {
   "cell_type": "markdown",
   "id": "c2aa6d78",
   "metadata": {},
   "source": [
    "#### Calculate median absolute deviations (MAD) for each group"
   ]
  },
  {
   "cell_type": "code",
   "execution_count": null,
   "id": "dab41b95",
   "metadata": {},
   "outputs": [],
   "source": [
    "Mad1 = np.median(np.abs(Group1['realSum'] - Group1['realSum'].median()))\n",
    "Mad2 = np.median(np.abs(Group2['realSum'] - Group2['realSum'].median()))\n",
    "Mad3 = np.median(np.abs(Group3['realSum'] - Group3['realSum'].median()))"
   ]
  },
  {
   "cell_type": "code",
   "execution_count": null,
   "id": "56ce8194",
   "metadata": {},
   "outputs": [],
   "source": [
    "# Calculate mean MAD\n",
    "meanMad = np.mean([Mad1, Mad2, Mad3])\n",
    "\n",
    "# Calculate deviations from mean MAD for each group\n",
    "dev1 = np.abs(Mad1 - meanMad)\n",
    "dev2 = np.abs(Mad2 - meanMad)\n",
    "dev3 = np.abs(Mad3 - meanMad)\n",
    "\n",
    "# Calculate test statistic using Brown-Forsythe test\n",
    "test_stat = (dev1 ** 2 + dev2 ** 2 + dev3 ** 2) / (2 * meanMad ** 2)\n",
    "\n",
    "df1 = 2\n",
    "df2 = 147"
   ]
  },
  {
   "cell_type": "code",
   "execution_count": null,
   "id": "cc92ce29",
   "metadata": {},
   "outputs": [],
   "source": [
    "# Calculate p-value using the F distribution\n",
    "p_value = 1 - f.cdf(test_stat, df1, df2)\n",
    "\n",
    "# Output test results\n",
    "print(\"Brown-Forsythe test results:\")\n",
    "print(\"Test statistic: \", test_stat)\n",
    "print(\"p-value: \", p_value)\n",
    "\n",
    "# Check if p-value is less than 0.05\n",
    "print(p_value < 0.05)"
   ]
  },
  {
   "cell_type": "code",
   "execution_count": null,
   "id": "fa712fbe",
   "metadata": {},
   "outputs": [],
   "source": [
    "import matplotlib.pyplot as plt\n",
    "import seaborn as sns\n",
    "import scipy.stats as stats"
   ]
  },
  {
   "cell_type": "code",
   "execution_count": null,
   "id": "b3279eda",
   "metadata": {},
   "outputs": [],
   "source": [
    "# Set figure size and style\n",
    "sns.set_style('white')\n",
    "fig, ax = plt.subplots(nrows=1, ncols=3, figsize=(15, 5))\n",
    "\n",
    "# Set color palette\n",
    "colors = sns.color_palette('husl', 3)\n",
    "\n",
    "# Plot each group on a separate subplot\n",
    "for i, group in enumerate([Group1, Group2, Group3]):\n",
    "    sns.histplot(data=group, x='realSum', color=colors[i], ax=ax[i], alpha=0.7,kde=True)\n",
    "    ax[i].set_xlabel('Real Sum', fontsize=12)\n",
    "    ax[i].set_ylabel('Count', fontsize=12)\n",
    "    ax[i].set_title(f'Group {i+1}', fontsize=14)\n",
    "\n",
    "# Remove unnecessary spines and tick marks\n",
    "sns.despine()\n",
    "plt.tick_params(axis='both', which='both', length=0)\n",
    "\n",
    "# Adjust the layout and spacing\n",
    "plt.tight_layout(pad=1)\n",
    "\n",
    "# Show the plot\n",
    "plt.show()"
   ]
  },
  {
   "cell_type": "code",
   "execution_count": null,
   "id": "a338411a",
   "metadata": {},
   "outputs": [],
   "source": [
    "# Perform Kruskal-Wallis test\n",
    "statistic, p_value = stats.kruskal(Group1['realSum'], Group2['realSum'], Group3['realSum'])\n",
    "\n",
    "# Interpret the results\n",
    "alpha = 0.05\n",
    "if p_value > alpha:\n",
    "    print(\"Fail to reject the null hypothesis - there is no significant difference in the median values of the room type.\")\n",
    "else:\n",
    "    print(\"Reject the null hypothesis - there is a significant difference in the median values of the room type.\")"
   ]
  },
  {
   "cell_type": "code",
   "execution_count": null,
   "id": "8d923384",
   "metadata": {},
   "outputs": [],
   "source": []
  },
  {
   "cell_type": "code",
   "execution_count": null,
   "id": "93147580",
   "metadata": {},
   "outputs": [],
   "source": []
  },
  {
   "cell_type": "code",
   "execution_count": null,
   "id": "e072cb95",
   "metadata": {},
   "outputs": [],
   "source": []
  },
  {
   "cell_type": "code",
   "execution_count": null,
   "id": "89f688d1",
   "metadata": {},
   "outputs": [],
   "source": [
    "# Clustering"
   ]
  },
  {
   "cell_type": "code",
   "execution_count": null,
   "id": "41fd0efb",
   "metadata": {},
   "outputs": [],
   "source": [
    "import pandas as pd\n",
    "from sklearn.cluster import KMeans\n",
    "from sklearn.preprocessing import StandardScaler\n"
   ]
  },
  {
   "cell_type": "markdown",
   "id": "27ff9569",
   "metadata": {},
   "source": [
    "Preparing the data"
   ]
  },
  {
   "cell_type": "code",
   "execution_count": null,
   "id": "6899e4fb",
   "metadata": {},
   "outputs": [],
   "source": [
    "X = londonDt.drop(['realSum','room_type', 'room_shared', 'room_private', 'host_is_superhost', 'multi', 'biz', 'week Type'], axis=1)\n",
    "\n",
    "# Standardize the data\n",
    "scaler = StandardScaler()\n",
    "X_scaled = scaler.fit_transform(X)"
   ]
  },
  {
   "cell_type": "markdown",
   "id": "72f7081f",
   "metadata": {},
   "source": [
    "Determine the optimal number of clusters using Elbow method"
   ]
  },
  {
   "cell_type": "code",
   "execution_count": null,
   "id": "d41e6823",
   "metadata": {},
   "outputs": [],
   "source": [
    "import matplotlib.pyplot as plt\n",
    "\n",
    "inertia = []\n",
    "for i in range(1, 11):\n",
    "    kmeans = KMeans(n_clusters=i, random_state=0)\n",
    "    kmeans.fit(X_scaled)\n",
    "    inertia.append(kmeans.inertia_)\n",
    "\n",
    "# Plot the Elbow graph\n",
    "plt.plot(range(1, 11), inertia, marker='o')\n",
    "plt.xlabel('Number of Clusters')\n",
    "plt.ylabel('Inertia')\n",
    "plt.title('Elbow Method for Optimal Clusters')\n",
    "plt.show()\n"
   ]
  },
  {
   "cell_type": "markdown",
   "id": "e2fc8875",
   "metadata": {},
   "source": [
    "Lookint for the \"elbow point\" on the graph, where the inertia starts to decrease at a slower rate it give us an indication of the optimal number of clusters. In this case, we will choose a value 5."
   ]
  },
  {
   "cell_type": "code",
   "execution_count": null,
   "id": "3a2fada7",
   "metadata": {},
   "outputs": [],
   "source": [
    "kmeans = KMeans(n_clusters=5, random_state=0)\n",
    "londonDt['cluster'] = kmeans.fit_predict(X_scaled)"
   ]
  },
  {
   "cell_type": "markdown",
   "id": "b6c21a12",
   "metadata": {},
   "source": [
    "Now, our DataFrame 'londonDt' will have an additional column 'cluster' indicating which cluster each data point belongs to.\n",
    "\n",
    "We can analyze the characteristics of each cluster to understand how prices vary within each group."
   ]
  },
  {
   "cell_type": "code",
   "execution_count": null,
   "id": "66b47984",
   "metadata": {},
   "outputs": [],
   "source": [
    "cluster_means = londonDt.groupby('cluster')['realSum'].mean()\n",
    "cluster_counts = londonDt['cluster'].value_counts()\n",
    "\n",
    "print(cluster_means)\n",
    "print(cluster_counts)"
   ]
  },
  {
   "cell_type": "markdown",
   "id": "fa087521",
   "metadata": {},
   "source": [
    "Train a regression model for each cluster\n",
    "Now that we have clustered the data, we can train separate regression models for each cluster to predict the prices."
   ]
  },
  {
   "cell_type": "code",
   "execution_count": null,
   "id": "06561b7d",
   "metadata": {},
   "outputs": [],
   "source": [
    "from sklearn.linear_model import LinearRegression\n",
    "\n",
    "for cluster_id in londonDt['cluster'].unique():\n",
    "    cluster_data = londonDt[londonDt['cluster'] == cluster_id]\n",
    "    X_cluster = cluster_data.drop(['realSum', 'room_type', 'room_shared', 'room_private', 'host_is_superhost', 'multi', 'biz', 'week Type', 'cluster'], axis=1)\n",
    "    y_cluster = cluster_data['realSum']\n",
    "    \n",
    "    # Train a regression model\n",
    "    model = LinearRegression()\n",
    "    model.fit(X_cluster, y_cluster)"
   ]
  },
  {
   "cell_type": "code",
   "execution_count": null,
   "id": "22373aae",
   "metadata": {},
   "outputs": [],
   "source": []
  },
  {
   "cell_type": "code",
   "execution_count": null,
   "id": "86bcdc6a",
   "metadata": {},
   "outputs": [],
   "source": [
    "X = londonDt.drop(['realSum', 'room_type', 'room_shared', 'room_private', 'host_is_superhost', 'multi', 'biz', 'week Type'], axis=1)\n",
    "\n",
    "# Standardize the data\n",
    "scaler = StandardScaler()\n",
    "X_scaled = scaler.fit_transform(X)"
   ]
  },
  {
   "cell_type": "markdown",
   "id": "9ee8a372",
   "metadata": {},
   "source": [
    "In this step, we're using both the Elbow method and Silhouette score to help identify the optimal number of clusters. The silhouette score measures how well-separated the clusters are, with higher values indicating better separation."
   ]
  },
  {
   "cell_type": "code",
   "execution_count": null,
   "id": "988d3835",
   "metadata": {},
   "outputs": [],
   "source": [
    "from sklearn.metrics import silhouette_score\n",
    "\n",
    "# Try a range of cluster numbers\n",
    "clusters_range = range(2, 11)\n",
    "inertia = []\n",
    "silhouette_scores = []\n",
    "\n",
    "for num_clusters in clusters_range:\n",
    "    kmeans = KMeans(n_clusters=num_clusters, random_state=0)\n",
    "    kmeans.fit(X_scaled)\n",
    "    inertia.append(kmeans.inertia_)\n",
    "    silhouette_scores.append(silhouette_score(X_scaled, kmeans.labels_))\n",
    "\n",
    "# Plot the Elbow graph and Silhouette score\n",
    "fig, ax1 = plt.subplots()\n",
    "\n",
    "ax1.plot(clusters_range, inertia, 'b-')\n",
    "ax1.set_xlabel('Number of Clusters')\n",
    "ax1.set_ylabel('Inertia', color='b')\n",
    "ax1.tick_params('y', colors='b')\n",
    "\n",
    "ax2 = ax1.twinx()\n",
    "ax2.plot(clusters_range, silhouette_scores, 'r-')\n",
    "ax2.set_ylabel('Silhouette Score', color='r')\n",
    "ax2.tick_params('y', colors='r')\n",
    "\n",
    "plt.title('Elbow Method with Silhouette Score')\n",
    "plt.show()\n"
   ]
  },
  {
   "cell_type": "code",
   "execution_count": null,
   "id": "4fd393cc",
   "metadata": {},
   "outputs": [],
   "source": [
    "n_clusters = 5\n",
    "kmeans = KMeans(n_clusters=n_clusters, random_state=0)\n",
    "londonDt['cluster'] = kmeans.fit_predict(X_scaled)"
   ]
  },
  {
   "cell_type": "code",
   "execution_count": null,
   "id": "4135f336",
   "metadata": {},
   "outputs": [],
   "source": [
    "cluster_means = londonDt.groupby('cluster')['realSum'].mean()\n",
    "cluster_counts = londonDt['cluster'].value_counts()\n",
    "\n",
    "print(cluster_means)\n",
    "print(cluster_counts)"
   ]
  },
  {
   "cell_type": "code",
   "execution_count": null,
   "id": "0ce4e87e",
   "metadata": {},
   "outputs": [],
   "source": [
    "from sklearn.linear_model import LinearRegression\n",
    "\n",
    "for cluster_id in londonDt['cluster'].unique():\n",
    "    cluster_data = londonDt[londonDt['cluster'] == cluster_id]\n",
    "    X_cluster = cluster_data.drop(['realSum', 'room_type', 'room_shared', 'room_private', 'host_is_superhost', 'multi', 'biz', 'week Type', 'cluster'], axis=1)\n",
    "    y_cluster = cluster_data['realSum']\n",
    "    \n",
    "    # Train a regression model\n",
    "    model = LinearRegression()\n",
    "    model.fit(X_cluster, y_cluster)\n",
    "    "
   ]
  },
  {
   "cell_type": "code",
   "execution_count": null,
   "id": "8864b4c5",
   "metadata": {},
   "outputs": [],
   "source": []
  }
 ],
 "metadata": {
  "kernelspec": {
   "display_name": "Python 3 (ipykernel)",
   "language": "python",
   "name": "python3"
  },
  "language_info": {
   "codemirror_mode": {
    "name": "ipython",
    "version": 3
   },
   "file_extension": ".py",
   "mimetype": "text/x-python",
   "name": "python",
   "nbconvert_exporter": "python",
   "pygments_lexer": "ipython3",
   "version": "3.9.13"
  },
  "widgets": {
   "application/vnd.jupyter.widget-state+json": {
    "state": {},
    "version_major": 2,
    "version_minor": 0
   }
  }
 },
 "nbformat": 4,
 "nbformat_minor": 5
}
